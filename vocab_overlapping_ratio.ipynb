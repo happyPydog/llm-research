{
 "cells": [
  {
   "cell_type": "code",
   "execution_count": null,
   "metadata": {},
   "outputs": [],
   "source": [
    "# EXAMPLE CODE:\n",
    "from transformers import AutoTokenizer\n",
    "\n",
    "# Load the tokenizer\n",
    "tokenizer = AutoTokenizer.from_pretrained(\"mistralai/Mistral-7B-v0.1\")\n",
    "print(tokenizer.get_vocab())\n",
    "# Encode a text input to get token IDs\n",
    "encoded_input = tokenizer.tokenize(\"metaverse\")\n",
    "print(encoded_input)\n",
    "\n",
    "# Load the tokenizer\n",
    "tokenizer = AutoTokenizer.from_pretrained(\"01-ai/Yi-34B-Chat\")\n",
    "\n",
    "# Encode a text input to get token IDs\n",
    "encoded_input = tokenizer.tokenize(\"metaverse\")\n",
    "print(encoded_input)"
   ]
  },
  {
   "cell_type": "code",
   "execution_count": null,
   "metadata": {},
   "outputs": [],
   "source": [
    "from transformers import AutoTokenizer\n",
    "\n",
    "\n",
    "def get_model_vocab(tokenizer_name: str) -> dict:\n",
    "    tokenizer = AutoTokenizer.from_pretrained(tokenizer_name)\n",
    "    return tokenizer.get_vocab()\n",
    "\n",
    "\n",
    "def load_vocab(paths: list[str]) -> None:\n",
    "    for path in paths:\n",
    "        vocab = get_model_vocab(path)\n",
    "\n",
    "        model_name = path.split(\"/\")[-1]\n",
    "        with open(f\"{model_name}_vocab.txt\", \"w\") as f:\n",
    "            for word, _ in vocab.items():\n",
    "                f.write(f\"{word}\\n\")\n",
    "\n",
    "\n",
    "model_path_list = [\"01-ai/Yi-34B-Chat\", \"mistralai/Mistral-7B-v0.1\"]\n",
    "load_vocab(model_path_list)"
   ]
  },
  {
   "cell_type": "code",
   "execution_count": 1,
   "metadata": {},
   "outputs": [
    {
     "ename": "FileNotFoundError",
     "evalue": "[Errno 2] No such file or directory: 'vocab/oxford-3000.txt'",
     "output_type": "error",
     "traceback": [
      "\u001b[0;31m---------------------------------------------------------------------------\u001b[0m",
      "\u001b[0;31mFileNotFoundError\u001b[0m                         Traceback (most recent call last)",
      "Cell \u001b[0;32mIn[1], line 12\u001b[0m\n\u001b[1;32m      8\u001b[0m     \u001b[38;5;28;01mreturn\u001b[39;00m vocab\n\u001b[1;32m     11\u001b[0m \u001b[38;5;66;03m# 讀取詞匯集\u001b[39;00m\n\u001b[0;32m---> 12\u001b[0m oxford_3000 \u001b[38;5;241m=\u001b[39m \u001b[43mget_vocab_set\u001b[49m\u001b[43m(\u001b[49m\u001b[38;5;124;43m\"\u001b[39;49m\u001b[38;5;124;43moxford-3000.txt\u001b[39;49m\u001b[38;5;124;43m\"\u001b[39;49m\u001b[43m)\u001b[49m\n\u001b[1;32m     13\u001b[0m mistral_7b \u001b[38;5;241m=\u001b[39m get_vocab_set(\u001b[38;5;124m\"\u001b[39m\u001b[38;5;124mMistral-7B-v0.1_vocab.txt\u001b[39m\u001b[38;5;124m\"\u001b[39m)\n\u001b[1;32m     14\u001b[0m yi_34b_chat \u001b[38;5;241m=\u001b[39m get_vocab_set(\u001b[38;5;124m\"\u001b[39m\u001b[38;5;124mYi-34B-Chat_vocab.txt\u001b[39m\u001b[38;5;124m\"\u001b[39m)\n",
      "Cell \u001b[0;32mIn[1], line 6\u001b[0m, in \u001b[0;36mget_vocab_set\u001b[0;34m(path)\u001b[0m\n\u001b[1;32m      5\u001b[0m \u001b[38;5;28;01mdef\u001b[39;00m \u001b[38;5;21mget_vocab_set\u001b[39m(path: \u001b[38;5;28mstr\u001b[39m) \u001b[38;5;241m-\u001b[39m\u001b[38;5;241m>\u001b[39m \u001b[38;5;28mset\u001b[39m:\n\u001b[0;32m----> 6\u001b[0m     \u001b[38;5;28;01mwith\u001b[39;00m \u001b[38;5;28;43mopen\u001b[39;49m\u001b[43m(\u001b[49m\u001b[38;5;124;43mf\u001b[39;49m\u001b[38;5;124;43m\"\u001b[39;49m\u001b[38;5;124;43mvocab/\u001b[39;49m\u001b[38;5;132;43;01m{\u001b[39;49;00m\u001b[43mpath\u001b[49m\u001b[38;5;132;43;01m}\u001b[39;49;00m\u001b[38;5;124;43m\"\u001b[39;49m\u001b[43m,\u001b[49m\u001b[43m \u001b[49m\u001b[38;5;124;43m\"\u001b[39;49m\u001b[38;5;124;43mr\u001b[39;49m\u001b[38;5;124;43m\"\u001b[39;49m\u001b[43m)\u001b[49m \u001b[38;5;28;01mas\u001b[39;00m f:\n\u001b[1;32m      7\u001b[0m         vocab \u001b[38;5;241m=\u001b[39m \u001b[38;5;28mset\u001b[39m(word\u001b[38;5;241m.\u001b[39mstrip() \u001b[38;5;28;01mfor\u001b[39;00m word \u001b[38;5;129;01min\u001b[39;00m f\u001b[38;5;241m.\u001b[39mreadlines())\n\u001b[1;32m      8\u001b[0m     \u001b[38;5;28;01mreturn\u001b[39;00m vocab\n",
      "File \u001b[0;32m~/dev-personal/llm-research/.venv/lib/python3.11/site-packages/IPython/core/interactiveshell.py:324\u001b[0m, in \u001b[0;36m_modified_open\u001b[0;34m(file, *args, **kwargs)\u001b[0m\n\u001b[1;32m    317\u001b[0m \u001b[38;5;28;01mif\u001b[39;00m file \u001b[38;5;129;01min\u001b[39;00m {\u001b[38;5;241m0\u001b[39m, \u001b[38;5;241m1\u001b[39m, \u001b[38;5;241m2\u001b[39m}:\n\u001b[1;32m    318\u001b[0m     \u001b[38;5;28;01mraise\u001b[39;00m \u001b[38;5;167;01mValueError\u001b[39;00m(\n\u001b[1;32m    319\u001b[0m         \u001b[38;5;124mf\u001b[39m\u001b[38;5;124m\"\u001b[39m\u001b[38;5;124mIPython won\u001b[39m\u001b[38;5;124m'\u001b[39m\u001b[38;5;124mt let you open fd=\u001b[39m\u001b[38;5;132;01m{\u001b[39;00mfile\u001b[38;5;132;01m}\u001b[39;00m\u001b[38;5;124m by default \u001b[39m\u001b[38;5;124m\"\u001b[39m\n\u001b[1;32m    320\u001b[0m         \u001b[38;5;124m\"\u001b[39m\u001b[38;5;124mas it is likely to crash IPython. If you know what you are doing, \u001b[39m\u001b[38;5;124m\"\u001b[39m\n\u001b[1;32m    321\u001b[0m         \u001b[38;5;124m\"\u001b[39m\u001b[38;5;124myou can use builtins\u001b[39m\u001b[38;5;124m'\u001b[39m\u001b[38;5;124m open.\u001b[39m\u001b[38;5;124m\"\u001b[39m\n\u001b[1;32m    322\u001b[0m     )\n\u001b[0;32m--> 324\u001b[0m \u001b[38;5;28;01mreturn\u001b[39;00m \u001b[43mio_open\u001b[49m\u001b[43m(\u001b[49m\u001b[43mfile\u001b[49m\u001b[43m,\u001b[49m\u001b[43m \u001b[49m\u001b[38;5;241;43m*\u001b[39;49m\u001b[43margs\u001b[49m\u001b[43m,\u001b[49m\u001b[43m \u001b[49m\u001b[38;5;241;43m*\u001b[39;49m\u001b[38;5;241;43m*\u001b[39;49m\u001b[43mkwargs\u001b[49m\u001b[43m)\u001b[49m\n",
      "\u001b[0;31mFileNotFoundError\u001b[0m: [Errno 2] No such file or directory: 'vocab/oxford-3000.txt'"
     ]
    }
   ],
   "source": [
    "from matplotlib_venn import venn3\n",
    "import matplotlib.pyplot as plt\n",
    "\n",
    "\n",
    "def get_vocab_set(path: str) -> set:\n",
    "    with open(f\"vocab/{path}\", \"r\") as f:\n",
    "        vocab = set(word.strip() for word in f.readlines())\n",
    "    return vocab\n",
    "\n",
    "\n",
    "# 讀取詞匯集\n",
    "oxford_3000 = get_vocab_set(\"common_english_words/oxford-3000.txt\")\n",
    "mistral_7b = get_vocab_set(\"Mistral-7B-v0.1_vocab.txt\")\n",
    "yi_34b_chat = get_vocab_set(\"Yi-34B-Chat_vocab.txt\")\n",
    "\n",
    "# 計算交集\n",
    "oxford_mistral_intersection = len(oxford_3000 & mistral_7b)\n",
    "oxford_yi_intersection = len(oxford_3000 & yi_34b_chat)\n",
    "mistral_yi_intersection = len(mistral_7b & yi_34b_chat)\n",
    "all_three_intersection = len(oxford_3000 & mistral_7b & yi_34b_chat)\n",
    "\n",
    "# 使用matplotlib_venn繪製文氏圖\n",
    "venn_sets = {\n",
    "    \"100\": len(oxford_3000)\n",
    "    - oxford_mistral_intersection\n",
    "    - oxford_yi_intersection\n",
    "    + all_three_intersection,\n",
    "    \"010\": len(mistral_7b)\n",
    "    - oxford_mistral_intersection\n",
    "    - mistral_yi_intersection\n",
    "    + all_three_intersection,\n",
    "    \"001\": len(yi_34b_chat)\n",
    "    - oxford_yi_intersection\n",
    "    - mistral_yi_intersection\n",
    "    + all_three_intersection,\n",
    "    \"110\": oxford_mistral_intersection - all_three_intersection,\n",
    "    \"101\": oxford_yi_intersection - all_three_intersection,\n",
    "    \"011\": mistral_yi_intersection - all_three_intersection,\n",
    "    \"111\": all_three_intersection,\n",
    "}\n",
    "\n",
    "plt.figure(figsize=(8, 8))\n",
    "venn3(subsets=venn_sets, set_labels=(\"Oxford 3000\", \"Mistral 7B\", \"Yi 34B Chat\"))\n",
    "plt.title(\"Venn Diagram of Vocabulary Sets\")\n",
    "plt.show()"
   ]
  },
  {
   "cell_type": "code",
   "execution_count": 2,
   "metadata": {},
   "outputs": [
    {
     "data": {
      "text/plain": [
       "0.36"
      ]
     },
     "execution_count": 2,
     "metadata": {},
     "output_type": "execute_result"
    }
   ],
   "source": [
    "1080 / 3000"
   ]
  },
  {
   "cell_type": "code",
   "execution_count": 1,
   "metadata": {},
   "outputs": [
    {
     "data": {
      "text/plain": [
       "0.6754221388367729"
      ]
     },
     "execution_count": 1,
     "metadata": {},
     "output_type": "execute_result"
    }
   ],
   "source": [
    "1080 / (1080 + 19 + 500)"
   ]
  },
  {
   "cell_type": "code",
   "execution_count": null,
   "metadata": {},
   "outputs": [],
   "source": [
    "from matplotlib_venn import venn3\n",
    "import matplotlib.pyplot as plt\n",
    "\n",
    "\n",
    "def get_vocab_set(path: str) -> set:\n",
    "    with open(f\"vocab/{path}\", \"r\") as f:\n",
    "        vocab = set(word.strip() for word in f.readlines())\n",
    "    return vocab\n",
    "\n",
    "\n",
    "# 讀取詞匯集\n",
    "oxford_3000 = get_vocab_set(\"common_english_words/oxford-5000.txt\")\n",
    "mistral_7b = get_vocab_set(\"Mistral-7B-v0.1_vocab.txt\")\n",
    "yi_34b_chat = get_vocab_set(\"Yi-34B-Chat_vocab.txt\")\n",
    "\n",
    "# 計算交集\n",
    "oxford_mistral_intersection = len(oxford_3000 & mistral_7b)\n",
    "oxford_yi_intersection = len(oxford_3000 & yi_34b_chat)\n",
    "mistral_yi_intersection = len(mistral_7b & yi_34b_chat)\n",
    "all_three_intersection = len(oxford_3000 & mistral_7b & yi_34b_chat)\n",
    "\n",
    "# 使用matplotlib_venn繪製文氏圖\n",
    "venn_sets = {\n",
    "    \"100\": len(oxford_3000)\n",
    "    - oxford_mistral_intersection\n",
    "    - oxford_yi_intersection\n",
    "    + all_three_intersection,\n",
    "    \"010\": len(mistral_7b)\n",
    "    - oxford_mistral_intersection\n",
    "    - mistral_yi_intersection\n",
    "    + all_three_intersection,\n",
    "    \"001\": len(yi_34b_chat)\n",
    "    - oxford_yi_intersection\n",
    "    - mistral_yi_intersection\n",
    "    + all_three_intersection,\n",
    "    \"110\": oxford_mistral_intersection - all_three_intersection,\n",
    "    \"101\": oxford_yi_intersection - all_three_intersection,\n",
    "    \"011\": mistral_yi_intersection - all_three_intersection,\n",
    "    \"111\": all_three_intersection,\n",
    "}\n",
    "\n",
    "plt.figure(figsize=(8, 8))\n",
    "venn3(subsets=venn_sets, set_labels=(\"Oxford 3000\", \"Mistral 7B\", \"Yi 34B Chat\"))\n",
    "plt.title(\"Venn Diagram of Vocabulary Sets\")\n",
    "plt.show()"
   ]
  },
  {
   "cell_type": "code",
   "execution_count": null,
   "metadata": {},
   "outputs": [],
   "source": [
    "1252 / 5000"
   ]
  },
  {
   "cell_type": "code",
   "execution_count": null,
   "metadata": {},
   "outputs": [],
   "source": [
    "from matplotlib_venn import venn3\n",
    "import matplotlib.pyplot as plt\n",
    "\n",
    "\n",
    "def get_vocab_set(path: str) -> set:\n",
    "    with open(f\"vocab/{path}\", \"r\") as f:\n",
    "        vocab = set(word.strip() for word in f.readlines())\n",
    "    return vocab\n",
    "\n",
    "\n",
    "# 讀取詞匯集\n",
    "oxford_3000 = get_vocab_set(\n",
    "    \"common_english_words/wiki_most_100_common_word_in_english.txt\"\n",
    ")\n",
    "mistral_7b = get_vocab_set(\"Mistral-7B-v0.1_vocab.txt\")\n",
    "yi_34b_chat = get_vocab_set(\"Yi-34B-Chat_vocab.txt\")\n",
    "\n",
    "# 計算交集\n",
    "oxford_mistral_intersection = len(oxford_3000 & mistral_7b)\n",
    "oxford_yi_intersection = len(oxford_3000 & yi_34b_chat)\n",
    "mistral_yi_intersection = len(mistral_7b & yi_34b_chat)\n",
    "all_three_intersection = len(oxford_3000 & mistral_7b & yi_34b_chat)\n",
    "\n",
    "# 使用matplotlib_venn繪製文氏圖\n",
    "venn_sets = {\n",
    "    \"100\": len(oxford_3000)\n",
    "    - oxford_mistral_intersection\n",
    "    - oxford_yi_intersection\n",
    "    + all_three_intersection,\n",
    "    \"010\": len(mistral_7b)\n",
    "    - oxford_mistral_intersection\n",
    "    - mistral_yi_intersection\n",
    "    + all_three_intersection,\n",
    "    \"001\": len(yi_34b_chat)\n",
    "    - oxford_yi_intersection\n",
    "    - mistral_yi_intersection\n",
    "    + all_three_intersection,\n",
    "    \"110\": oxford_mistral_intersection - all_three_intersection,\n",
    "    \"101\": oxford_yi_intersection - all_three_intersection,\n",
    "    \"011\": mistral_yi_intersection - all_three_intersection,\n",
    "    \"111\": all_three_intersection,\n",
    "}\n",
    "\n",
    "plt.figure(figsize=(8, 8))\n",
    "venn3(\n",
    "    subsets=venn_sets,\n",
    "    set_labels=(\"wiki_most_100_common_word_in_english\", \"Mistral 7B\", \"Yi 34B Chat\"),\n",
    ")\n",
    "plt.title(\"Venn Diagram of Vocabulary Sets\")\n",
    "plt.show()"
   ]
  },
  {
   "cell_type": "code",
   "execution_count": null,
   "metadata": {},
   "outputs": [],
   "source": []
  }
 ],
 "metadata": {
  "kernelspec": {
   "display_name": ".venv",
   "language": "python",
   "name": "python3"
  },
  "language_info": {
   "codemirror_mode": {
    "name": "ipython",
    "version": 3
   },
   "file_extension": ".py",
   "mimetype": "text/x-python",
   "name": "python",
   "nbconvert_exporter": "python",
   "pygments_lexer": "ipython3",
   "version": "3.11.8"
  }
 },
 "nbformat": 4,
 "nbformat_minor": 2
}

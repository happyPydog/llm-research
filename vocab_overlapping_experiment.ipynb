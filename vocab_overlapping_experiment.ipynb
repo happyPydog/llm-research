{
 "cells": [
  {
   "cell_type": "markdown",
   "metadata": {},
   "source": [
    "# Constant"
   ]
  },
  {
   "cell_type": "code",
   "execution_count": 47,
   "metadata": {},
   "outputs": [],
   "source": [
    "from pathlib import Path\n",
    "\n",
    "\n",
    "ROOT_DIR = Path(\"vocab\")\n",
    "ROOT_DIR.mkdir(parents=True, exist_ok=True)\n",
    "\n",
    "COMMON_VOCAB_DIR = ROOT_DIR / \"common_english_words\"\n",
    "COMMON_VOCAB_DIR.mkdir(parents=True, exist_ok=True)\n",
    "\n",
    "MODEL_LIST = [\n",
    "    \"01-ai/Yi-34B-Chat\",\n",
    "    \"mistralai/Mistral-7B-v0.1\",\n",
    "    \"mistralai/Mixtral-8x7B-Instruct-v0.1\",\n",
    "    \"meta-llama/Llama-2-7b-chat-hf\",\n",
    "    \"meta-llama/Llama-2-13b-chat-hf\",\n",
    "    \"meta-llama/Llama-2-70b-chat-hf\",\n",
    "    \"codellama/CodeLlama-34b-Instruct-hf\",\n",
    "    \"lmsys/vicuna-13b-v1.5\",\n",
    "    \"Nexusflow/Starling-LM-7B-beta\",\n",
    "    # \"tiiuae/falcon-180B-chat\",\n",
    "    \"WizardLM/WizardLM-70B-V1.0\",\n",
    "    \"openchat/openchat-3.5-0106\",\n",
    "]"
   ]
  },
  {
   "cell_type": "markdown",
   "metadata": {},
   "source": [
    "# Load Model Vocabulary"
   ]
  },
  {
   "cell_type": "code",
   "execution_count": 48,
   "metadata": {},
   "outputs": [
    {
     "name": "stdout",
     "output_type": "stream",
     "text": [
      " Skip `01-ai/Yi-34B-Chat` because it already exists.\n",
      " Skip `mistralai/Mistral-7B-v0.1` because it already exists.\n",
      " Skip `mistralai/Mixtral-8x7B-Instruct-v0.1` because it already exists.\n",
      " Skip `meta-llama/Llama-2-7b-chat-hf` because it already exists.\n",
      " Skip `meta-llama/Llama-2-13b-chat-hf` because it already exists.\n",
      " Skip `meta-llama/Llama-2-70b-chat-hf` because it already exists.\n",
      " Skip `codellama/CodeLlama-34b-Instruct-hf` because it already exists.\n",
      " Skip `lmsys/vicuna-13b-v1.5` because it already exists.\n",
      " Skip `Nexusflow/Starling-LM-7B-beta` because it already exists.\n",
      " Skip `WizardLM/WizardLM-70B-V1.0` because it already exists.\n"
     ]
    },
    {
     "name": "stderr",
     "output_type": "stream",
     "text": [
      "Special tokens have been added in the vocabulary, make sure the associated word embeddings are fine-tuned or trained.\n"
     ]
    },
    {
     "name": "stdout",
     "output_type": "stream",
     "text": [
      "Successfully saved vocab for 'openchat/openchat-3.5-0106' to vocab/openchat-3.5-0106.json\n"
     ]
    }
   ],
   "source": [
    "import json\n",
    "from pathlib import Path\n",
    "from transformers import AutoTokenizer\n",
    "\n",
    "\n",
    "def generate_save_path(model_path: str, root_dir: Path) -> Path:\n",
    "    _, model_name = model_path.split(\"/\")\n",
    "    return root_dir / f\"{model_name}.json\"\n",
    "\n",
    "\n",
    "def save_vocab(model_path: str, save_path: Path) -> None:\n",
    "    if save_path.exists():\n",
    "        print(f\" Skip `{model_path}` because it already exists.\")\n",
    "        return\n",
    "\n",
    "    try:\n",
    "        tokenizer = AutoTokenizer.from_pretrained(model_path)\n",
    "        vocab = tokenizer.get_vocab()\n",
    "        save_path.write_text(json.dumps(vocab, ensure_ascii=False, indent=4))\n",
    "        print(f\"Successfully saved vocab for '{model_path}' to {save_path}\")\n",
    "    except Exception as e:\n",
    "        print(f\"Failed to save vocab for '{model_path}': {e}\")\n",
    "\n",
    "\n",
    "def main() -> None:\n",
    "    for model_path in MODEL_LIST:\n",
    "        save_path = generate_save_path(model_path, ROOT_DIR)\n",
    "        save_vocab(model_path, save_path)\n",
    "\n",
    "\n",
    "if __name__ == \"__main__\":\n",
    "    main()"
   ]
  },
  {
   "cell_type": "markdown",
   "metadata": {},
   "source": [
    "# Load Vocab"
   ]
  },
  {
   "cell_type": "code",
   "execution_count": 5,
   "metadata": {},
   "outputs": [],
   "source": [
    "import json\n",
    "from pathlib import Path\n",
    "from collections import OrderedDict\n",
    "\n",
    "\n",
    "class Vocab(OrderedDict):\n",
    "    def __init__(self, model_vocab_paths: dict[str, Path], common_vocab_dir: Path):\n",
    "        super().__init__()\n",
    "        self.load_vocabs(model_vocab_paths, common_vocab_dir)\n",
    "\n",
    "    def load_vocabs(\n",
    "        self, model_vocab_paths: dict[str, Path], common_vocab_dir: Path\n",
    "    ) -> None:\n",
    "        # Load model vocab\n",
    "        self.update(\n",
    "            {\n",
    "                model_name: self.load_vocab(path, is_json=True)\n",
    "                for model_name, path in model_vocab_paths.items()\n",
    "            }\n",
    "        )\n",
    "\n",
    "        # * Assume all common vocab files are txt files under common_vocab_dir\n",
    "        common_vocab_paths = common_vocab_dir.glob(\"*.txt\")\n",
    "        self.update({path.stem: self.load_vocab(path) for path in common_vocab_paths})\n",
    "\n",
    "    @staticmethod\n",
    "    def load_vocab(path: Path, is_json: bool = False) -> set[str]:\n",
    "        with path.open(\"r\", encoding=\"utf-8\") as file:\n",
    "            if is_json:\n",
    "                return set(json.load(file))\n",
    "            return {line.strip() for line in file if line.strip()}\n",
    "\n",
    "\n",
    "def create_model_vocab_paths(model_list: list[str], root_dir: Path) -> dict[str, Path]:\n",
    "    return {\n",
    "        Path(model).parts[-1]: root_dir / f\"{Path(model).parts[-1]}.json\"\n",
    "        for model in model_list\n",
    "    }\n",
    "\n",
    "\n",
    "model_vocab_paths = create_model_vocab_paths(MODEL_LIST, ROOT_DIR)\n",
    "vocab = Vocab(model_vocab_paths, COMMON_VOCAB_DIR)"
   ]
  },
  {
   "cell_type": "code",
   "execution_count": 28,
   "metadata": {},
   "outputs": [],
   "source": [
    "from matplotlib_venn import venn2, venn3\n",
    "import matplotlib.pyplot as plt\n",
    "\n",
    "\n",
    "def plot_vocab_venn(\n",
    "    vocab: dict[str, set[str]], model_names: list[str], common_vocab_key: str\n",
    ") -> None:\n",
    "    common_vocab = vocab.get(common_vocab_key)\n",
    "    if not common_vocab:\n",
    "        raise ValueError(f\"Common vocabulary '{common_vocab_key}' not found.\")\n",
    "\n",
    "    model_vocabs = [\n",
    "        vocab.get(name) & common_vocab for name in model_names if name in vocab\n",
    "    ]\n",
    "    if not model_vocabs:\n",
    "        raise ValueError(\"Model names provided do not exist in the vocab dictionary.\")\n",
    "\n",
    "    if len(model_vocabs) == 1:\n",
    "        subsets = (\n",
    "            len(model_vocabs[0] - common_vocab),\n",
    "            len(common_vocab - model_vocabs[0]),\n",
    "            len(model_vocabs[0] & common_vocab),\n",
    "        )\n",
    "        venn_func = venn2\n",
    "        set_labels = (model_names[0], common_vocab_key)\n",
    "    elif len(model_vocabs) == 2:\n",
    "        subsets = {\n",
    "            \"100\": len(model_vocabs[0] - model_vocabs[1] - common_vocab),\n",
    "            \"010\": len(model_vocabs[1] - model_vocabs[0] - common_vocab),\n",
    "            \"001\": len(common_vocab - model_vocabs[0] - model_vocabs[1]),\n",
    "            \"110\": len(model_vocabs[0] & model_vocabs[1] - common_vocab),\n",
    "            \"101\": len(model_vocabs[0] & common_vocab - model_vocabs[1]),\n",
    "            \"011\": len(model_vocabs[1] & common_vocab - model_vocabs[0]),\n",
    "            \"111\": len(model_vocabs[0] & model_vocabs[1] & common_vocab),\n",
    "        }\n",
    "        venn_func = venn3\n",
    "        set_labels = (model_names[0], model_names[1], common_vocab_key)\n",
    "    else:\n",
    "        raise ValueError(\n",
    "            \"Only one or two model names are supported for the Venn diagram. \"\n",
    "            f\"There are {len(model_names)} in the model list provided. model_names: {model_names}.\"\n",
    "        )\n",
    "\n",
    "    plt.figure(figsize=(8, 8))\n",
    "    venn_func(subsets=subsets, set_labels=set_labels)\n",
    "    plt.title(\"Venn Diagram of Vocabulary Sets with Common Vocabulary\")\n",
    "    plt.show()"
   ]
  },
  {
   "cell_type": "code",
   "execution_count": 31,
   "metadata": {},
   "outputs": [
    {
     "data": {
      "image/png": "[encoded data removed]",
      "text/plain": [
       "<Figure size 800x800 with 1 Axes>"
      ]
     },
     "metadata": {},
     "output_type": "display_data"
    }
   ],
   "source": [
    "plot_vocab_venn(\n",
    "    vocab,\n",
    "    model_names=[\"Yi-34B-Chat\", \"Mistral-7B-v0.1\"],\n",
    "    # model_names=[\"Yi-34B-Chat\"],\n",
    "    common_vocab_key=\"oxford_3000\",\n",
    ")"
   ]
  },
  {
   "cell_type": "code",
   "execution_count": 49,
   "metadata": {},
   "outputs": [
    {
     "ename": "KeyError",
     "evalue": "'WizardLM/WizardLM-70B-V1.0'",
     "output_type": "error",
     "traceback": [
      "\u001b[0;31m---------------------------------------------------------------------------\u001b[0m",
      "\u001b[0;31mKeyError\u001b[0m                                  Traceback (most recent call last)",
      "Cell \u001b[0;32mIn[49], line 54\u001b[0m\n\u001b[1;32m     50\u001b[0m     plt\u001b[38;5;241m.\u001b[39mtight_layout()\n\u001b[1;32m     51\u001b[0m     plt\u001b[38;5;241m.\u001b[39mshow()\n\u001b[0;32m---> 54\u001b[0m \u001b[43mplot_overlap_heatmap\u001b[49m\u001b[43m(\u001b[49m\n\u001b[1;32m     55\u001b[0m \u001b[43m    \u001b[49m\u001b[43mvocab\u001b[49m\u001b[43m,\u001b[49m\n\u001b[1;32m     56\u001b[0m \u001b[43m    \u001b[49m\u001b[43mmodel_names\u001b[49m\u001b[38;5;241;43m=\u001b[39;49m\u001b[43m[\u001b[49m\n\u001b[1;32m     57\u001b[0m \u001b[43m        \u001b[49m\u001b[38;5;124;43m\"\u001b[39;49m\u001b[38;5;124;43mYi-34B-Chat\u001b[39;49m\u001b[38;5;124;43m\"\u001b[39;49m\u001b[43m,\u001b[49m\n\u001b[1;32m     58\u001b[0m \u001b[43m        \u001b[49m\u001b[38;5;124;43m\"\u001b[39;49m\u001b[38;5;124;43mMistral-7B-v0.1\u001b[39;49m\u001b[38;5;124;43m\"\u001b[39;49m\u001b[43m,\u001b[49m\n\u001b[1;32m     59\u001b[0m \u001b[43m        \u001b[49m\u001b[38;5;124;43m\"\u001b[39;49m\u001b[38;5;124;43mStarling-LM-7B-beta\u001b[39;49m\u001b[38;5;124;43m\"\u001b[39;49m\u001b[43m,\u001b[49m\n\u001b[1;32m     60\u001b[0m \u001b[43m        \u001b[49m\u001b[38;5;124;43m\"\u001b[39;49m\u001b[38;5;124;43mCodeLlama-34b-Instruct-hf\u001b[39;49m\u001b[38;5;124;43m\"\u001b[39;49m\u001b[43m,\u001b[49m\n\u001b[1;32m     61\u001b[0m \u001b[43m        \u001b[49m\u001b[38;5;124;43m\"\u001b[39;49m\u001b[38;5;124;43mLlama-2-7b-chat-hf\u001b[39;49m\u001b[38;5;124;43m\"\u001b[39;49m\u001b[43m,\u001b[49m\n\u001b[1;32m     62\u001b[0m \u001b[43m        \u001b[49m\u001b[38;5;124;43m\"\u001b[39;49m\u001b[38;5;124;43mvicuna-13b-v1.5\u001b[39;49m\u001b[38;5;124;43m\"\u001b[39;49m\u001b[43m,\u001b[49m\n\u001b[1;32m     63\u001b[0m \u001b[43m        \u001b[49m\u001b[38;5;124;43m\"\u001b[39;49m\u001b[38;5;124;43mWizardLM/WizardLM-70B-V1.0\u001b[39;49m\u001b[38;5;124;43m\"\u001b[39;49m\u001b[43m,\u001b[49m\n\u001b[1;32m     64\u001b[0m \u001b[43m        \u001b[49m\u001b[38;5;124;43m\"\u001b[39;49m\u001b[38;5;124;43mopenchat/openchat-3.5-0106\u001b[39;49m\u001b[38;5;124;43m\"\u001b[39;49m\u001b[43m,\u001b[49m\n\u001b[1;32m     65\u001b[0m \u001b[43m    \u001b[49m\u001b[43m]\u001b[49m\u001b[43m,\u001b[49m\n\u001b[1;32m     66\u001b[0m \u001b[43m    \u001b[49m\u001b[43mcommon_vocab_key\u001b[49m\u001b[38;5;241;43m=\u001b[39;49m\u001b[38;5;124;43m\"\u001b[39;49m\u001b[38;5;124;43moxford_3000\u001b[39;49m\u001b[38;5;124;43m\"\u001b[39;49m\u001b[43m,\u001b[49m\n\u001b[1;32m     67\u001b[0m \u001b[43m)\u001b[49m\n",
      "Cell \u001b[0;32mIn[49], line 21\u001b[0m, in \u001b[0;36mplot_overlap_heatmap\u001b[0;34m(vocab, model_names, common_vocab_key)\u001b[0m\n\u001b[1;32m      9\u001b[0m \u001b[38;5;250m\u001b[39m\u001b[38;5;124;03m\"\"\"\u001b[39;00m\n\u001b[1;32m     10\u001b[0m \u001b[38;5;124;03mGenerates a lower-triangle heatmap showing the proportion of shared tokens\u001b[39;00m\n\u001b[1;32m     11\u001b[0m \u001b[38;5;124;03mbetween the vocabularies of different language models, relative to the vocabulary\u001b[39;00m\n\u001b[0;32m   (...)\u001b[0m\n\u001b[1;32m     18\u001b[0m \n\u001b[1;32m     19\u001b[0m \u001b[38;5;124;03m\"\"\"\u001b[39;00m\n\u001b[1;32m     20\u001b[0m common_vocab \u001b[38;5;241m=\u001b[39m vocab[common_vocab_key]\n\u001b[0;32m---> 21\u001b[0m intersections \u001b[38;5;241m=\u001b[39m \u001b[43m{\u001b[49m\u001b[43mname\u001b[49m\u001b[43m:\u001b[49m\u001b[43m \u001b[49m\u001b[43mvocab\u001b[49m\u001b[43m[\u001b[49m\u001b[43mname\u001b[49m\u001b[43m]\u001b[49m\u001b[43m \u001b[49m\u001b[38;5;241;43m&\u001b[39;49m\u001b[43m \u001b[49m\u001b[43mcommon_vocab\u001b[49m\u001b[43m \u001b[49m\u001b[38;5;28;43;01mfor\u001b[39;49;00m\u001b[43m \u001b[49m\u001b[43mname\u001b[49m\u001b[43m \u001b[49m\u001b[38;5;129;43;01min\u001b[39;49;00m\u001b[43m \u001b[49m\u001b[43mmodel_names\u001b[49m\u001b[43m}\u001b[49m\n\u001b[1;32m     22\u001b[0m ratios \u001b[38;5;241m=\u001b[39m pd\u001b[38;5;241m.\u001b[39mDataFrame(\n\u001b[1;32m     23\u001b[0m     [\n\u001b[1;32m     24\u001b[0m         [\n\u001b[0;32m   (...)\u001b[0m\n\u001b[1;32m     36\u001b[0m     columns\u001b[38;5;241m=\u001b[39mmodel_names,\n\u001b[1;32m     37\u001b[0m )\n\u001b[1;32m     39\u001b[0m mask \u001b[38;5;241m=\u001b[39m pd\u001b[38;5;241m.\u001b[39misnull(ratios)\n",
      "Cell \u001b[0;32mIn[49], line 21\u001b[0m, in \u001b[0;36m<dictcomp>\u001b[0;34m(.0)\u001b[0m\n\u001b[1;32m      9\u001b[0m \u001b[38;5;250m\u001b[39m\u001b[38;5;124;03m\"\"\"\u001b[39;00m\n\u001b[1;32m     10\u001b[0m \u001b[38;5;124;03mGenerates a lower-triangle heatmap showing the proportion of shared tokens\u001b[39;00m\n\u001b[1;32m     11\u001b[0m \u001b[38;5;124;03mbetween the vocabularies of different language models, relative to the vocabulary\u001b[39;00m\n\u001b[0;32m   (...)\u001b[0m\n\u001b[1;32m     18\u001b[0m \n\u001b[1;32m     19\u001b[0m \u001b[38;5;124;03m\"\"\"\u001b[39;00m\n\u001b[1;32m     20\u001b[0m common_vocab \u001b[38;5;241m=\u001b[39m vocab[common_vocab_key]\n\u001b[0;32m---> 21\u001b[0m intersections \u001b[38;5;241m=\u001b[39m {name: \u001b[43mvocab\u001b[49m\u001b[43m[\u001b[49m\u001b[43mname\u001b[49m\u001b[43m]\u001b[49m \u001b[38;5;241m&\u001b[39m common_vocab \u001b[38;5;28;01mfor\u001b[39;00m name \u001b[38;5;129;01min\u001b[39;00m model_names}\n\u001b[1;32m     22\u001b[0m ratios \u001b[38;5;241m=\u001b[39m pd\u001b[38;5;241m.\u001b[39mDataFrame(\n\u001b[1;32m     23\u001b[0m     [\n\u001b[1;32m     24\u001b[0m         [\n\u001b[0;32m   (...)\u001b[0m\n\u001b[1;32m     36\u001b[0m     columns\u001b[38;5;241m=\u001b[39mmodel_names,\n\u001b[1;32m     37\u001b[0m )\n\u001b[1;32m     39\u001b[0m mask \u001b[38;5;241m=\u001b[39m pd\u001b[38;5;241m.\u001b[39misnull(ratios)\n",
      "\u001b[0;31mKeyError\u001b[0m: 'WizardLM/WizardLM-70B-V1.0'"
     ]
    }
   ],
   "source": [
    "import pandas as pd\n",
    "import seaborn as sns\n",
    "import matplotlib.pyplot as plt\n",
    "\n",
    "\n",
    "def plot_overlap_heatmap(\n",
    "    vocab: dict, model_names: list[str], common_vocab_key: str\n",
    ") -> None:\n",
    "    \"\"\"\n",
    "    Generates a lower-triangle heatmap showing the proportion of shared tokens\n",
    "    between the vocabularies of different language models, relative to the vocabulary\n",
    "    size of the model represented by each row.\n",
    "\n",
    "    Args:\n",
    "        vocab: A dictionary where keys are model names and values are sets of tokens.\n",
    "        model_names: A list of model names for which to calculate and display the overlaps.\n",
    "        common_vocab_key: The key in the vocab dictionary representing the common vocabulary.\n",
    "\n",
    "    \"\"\"\n",
    "    common_vocab = vocab[common_vocab_key]\n",
    "    intersections = {name: vocab[name] & common_vocab for name in model_names}\n",
    "    ratios = pd.DataFrame(\n",
    "        [\n",
    "            [\n",
    "                (\n",
    "                    len(intersections[row] & intersections[col])\n",
    "                    / len(intersections[col])\n",
    "                    if i >= j\n",
    "                    else None\n",
    "                )  # Fill the upper triangle with None\n",
    "                for j, col in enumerate(model_names)\n",
    "            ]\n",
    "            for i, row in enumerate(model_names)\n",
    "        ],\n",
    "        index=model_names,\n",
    "        columns=model_names,\n",
    "    )\n",
    "\n",
    "    mask = pd.isnull(ratios)\n",
    "    plt.figure(figsize=(10, 8))  # Adjust the figure size as necessary\n",
    "    heatmap = sns.heatmap(\n",
    "        ratios, annot=True, fmt=\".0%\", cmap=\"Blues\", mask=mask, square=True\n",
    "    )\n",
    "    heatmap.set_title(\n",
    "        f\"Token Overlap Proportions Across Diverse Language Models Based on {common_vocab_key} Vocabulary\",\n",
    "        pad=20,\n",
    "    )\n",
    "    plt.yticks(rotation=0)\n",
    "    plt.xticks(rotation=45)\n",
    "    plt.tight_layout()\n",
    "    plt.show()\n",
    "\n",
    "\n",
    "plot_overlap_heatmap(\n",
    "    vocab,\n",
    "    model_names=[\n",
    "        \"Yi-34B-Chat\",\n",
    "        \"Mistral-7B-v0.1\",\n",
    "        \"Starling-LM-7B-beta\",\n",
    "        \"CodeLlama-34b-Instruct-hf\",\n",
    "        \"Llama-2-7b-chat-hf\",\n",
    "        \"vicuna-13b-v1.5\",\n",
    "        \"WizardLM-70B-V1.0\",\n",
    "        \"openchat-3.5-0106\",\n",
    "    ],\n",
    "    common_vocab_key=\"oxford_3000\",\n",
    ")"
   ]
  },
  {
   "cell_type": "code",
   "execution_count": null,
   "metadata": {},
   "outputs": [],
   "source": []
  }
 ],
 "metadata": {
  "kernelspec": {
   "display_name": ".venv",
   "language": "python",
   "name": "python3"
  },
  "language_info": {
   "codemirror_mode": {
    "name": "ipython",
    "version": 3
   },
   "file_extension": ".py",
   "mimetype": "text/x-python",
   "name": "python",
   "nbconvert_exporter": "python",
   "pygments_lexer": "ipython3",
   "version": "3.11.8"
  }
 },
 "nbformat": 4,
 "nbformat_minor": 2
}
